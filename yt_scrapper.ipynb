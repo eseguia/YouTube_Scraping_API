{
 "cells": [
  {
   "cell_type": "code",
   "execution_count": 3,
   "id": "73b32859-d853-4364-9ecc-5da2506aa82e",
   "metadata": {},
   "outputs": [
    {
     "name": "stderr",
     "output_type": "stream",
     "text": [
      "[nltk_data] Downloading package stopwords to\n",
      "[nltk_data]     C:\\Users\\Emilio\\AppData\\Roaming\\nltk_data...\n",
      "[nltk_data]   Package stopwords is already up-to-date!\n",
      "[nltk_data] Downloading package punkt to\n",
      "[nltk_data]     C:\\Users\\Emilio\\AppData\\Roaming\\nltk_data...\n",
      "[nltk_data]   Package punkt is already up-to-date!\n"
     ]
    },
    {
     "data": {
      "text/plain": [
       "True"
      ]
     },
     "execution_count": 3,
     "metadata": {},
     "output_type": "execute_result"
    }
   ],
   "source": [
    "from googleapiclient.discovery import build\n",
    "from dateutil import parser\n",
    "import pandas as pd\n",
    "from IPython.display import JSON\n",
    "\n",
    "# Data viz packages\n",
    "import seaborn as sns\n",
    "import matplotlib.pyplot as plt\n",
    "import matplotlib.ticker as ticker\n",
    "\n",
    "# NLP\n",
    "import nltk\n",
    "from nltk.corpus import stopwords\n",
    "from nltk.tokenize import word_tokenize\n",
    "nltk.download('stopwords')\n",
    "nltk.download('punkt')\n",
    "#from wordcloud import WordCloud"
   ]
  },
  {
   "cell_type": "code",
   "execution_count": 4,
   "id": "b0459e67-f759-496d-babc-596d3ec0455b",
   "metadata": {},
   "outputs": [],
   "source": [
    "api_key = 'YOUR KEY'"
   ]
  },
  {
   "cell_type": "code",
   "execution_count": 29,
   "id": "feab835c-7cc5-4ac8-b97e-7387e5f7e258",
   "metadata": {},
   "outputs": [],
   "source": [
    "channel_ids = ['UC8butISFwT-Wl7EV0hUK0BQ',]"
   ]
  },
  {
   "cell_type": "code",
   "execution_count": 6,
   "id": "7e9bf751-69ae-4617-b92f-45a50c7f3e56",
   "metadata": {},
   "outputs": [],
   "source": [
    "api_service_name = \"youtube\"\n",
    "api_version = \"v3\"\n",
    "\n",
    "# Create an API client\n",
    "\n",
    "youtube = build(\n",
    "    api_service_name, api_version, developerKey=api_key)\n"
   ]
  },
  {
   "cell_type": "code",
   "execution_count": null,
   "id": "833e847b-6f2c-4722-adbe-1cd8c94966fc",
   "metadata": {},
   "outputs": [],
   "source": []
  },
  {
   "cell_type": "code",
   "execution_count": 9,
   "id": "8fb256a9-f15c-440b-83ef-85185e86be26",
   "metadata": {},
   "outputs": [],
   "source": [
    "channel_stats = get_channel_stats(youtube, channel_ids)"
   ]
  },
  {
   "cell_type": "code",
   "execution_count": 10,
   "id": "c7a9072d-65fe-42a8-bb88-42a384e80e7c",
   "metadata": {},
   "outputs": [
    {
     "data": {
      "text/html": [
       "<div>\n",
       "<style scoped>\n",
       "    .dataframe tbody tr th:only-of-type {\n",
       "        vertical-align: middle;\n",
       "    }\n",
       "\n",
       "    .dataframe tbody tr th {\n",
       "        vertical-align: top;\n",
       "    }\n",
       "\n",
       "    .dataframe thead th {\n",
       "        text-align: right;\n",
       "    }\n",
       "</style>\n",
       "<table border=\"1\" class=\"dataframe\">\n",
       "  <thead>\n",
       "    <tr style=\"text-align: right;\">\n",
       "      <th></th>\n",
       "      <th>channelName</th>\n",
       "      <th>subscribers</th>\n",
       "      <th>views</th>\n",
       "      <th>totalVideos</th>\n",
       "      <th>playlistId</th>\n",
       "    </tr>\n",
       "  </thead>\n",
       "  <tbody>\n",
       "    <tr>\n",
       "      <th>0</th>\n",
       "      <td>sentdex</td>\n",
       "      <td>1140000</td>\n",
       "      <td>103398120</td>\n",
       "      <td>1252</td>\n",
       "      <td>UUfzlCWGWYyIQ0aLC5w48gBQ</td>\n",
       "    </tr>\n",
       "    <tr>\n",
       "      <th>1</th>\n",
       "      <td>freeCodeCamp.org</td>\n",
       "      <td>5970000</td>\n",
       "      <td>395697632</td>\n",
       "      <td>1330</td>\n",
       "      <td>UU8butISFwT-Wl7EV0hUK0BQ</td>\n",
       "    </tr>\n",
       "  </tbody>\n",
       "</table>\n",
       "</div>"
      ],
      "text/plain": [
       "        channelName subscribers      views totalVideos  \\\n",
       "0           sentdex     1140000  103398120        1252   \n",
       "1  freeCodeCamp.org     5970000  395697632        1330   \n",
       "\n",
       "                 playlistId  \n",
       "0  UUfzlCWGWYyIQ0aLC5w48gBQ  \n",
       "1  UU8butISFwT-Wl7EV0hUK0BQ  "
      ]
     },
     "execution_count": 10,
     "metadata": {},
     "output_type": "execute_result"
    }
   ],
   "source": [
    "channel_stats"
   ]
  },
  {
   "cell_type": "code",
   "execution_count": 30,
   "id": "f57f9e6b-b208-412a-a195-333a508d3180",
   "metadata": {},
   "outputs": [],
   "source": [
    "playlist_id = \"UU8butISFwT-Wl7EV0hUK0BQ\""
   ]
  },
  {
   "cell_type": "code",
   "execution_count": 31,
   "id": "c4dfbbb3-4b74-406f-800a-f5ea52434994",
   "metadata": {},
   "outputs": [],
   "source": [
    "# Get video IDs\n",
    "\n",
    "video_ids = get_video_ids(youtube, playlist_id)"
   ]
  },
  {
   "cell_type": "code",
   "execution_count": 32,
   "id": "57ddb8dc-d3a7-4d0a-82b8-ba37c9bd175c",
   "metadata": {},
   "outputs": [
    {
     "data": {
      "text/plain": [
       "1330"
      ]
     },
     "execution_count": 32,
     "metadata": {},
     "output_type": "execute_result"
    }
   ],
   "source": [
    "len(video_ids)"
   ]
  },
  {
   "cell_type": "code",
   "execution_count": 33,
   "id": "57f5db9b-38af-4ae8-a601-b0ffcdd651f0",
   "metadata": {},
   "outputs": [
    {
     "data": {
      "text/html": [
       "<div>\n",
       "<style scoped>\n",
       "    .dataframe tbody tr th:only-of-type {\n",
       "        vertical-align: middle;\n",
       "    }\n",
       "\n",
       "    .dataframe tbody tr th {\n",
       "        vertical-align: top;\n",
       "    }\n",
       "\n",
       "    .dataframe thead th {\n",
       "        text-align: right;\n",
       "    }\n",
       "</style>\n",
       "<table border=\"1\" class=\"dataframe\">\n",
       "  <thead>\n",
       "    <tr style=\"text-align: right;\">\n",
       "      <th></th>\n",
       "      <th>video_id</th>\n",
       "      <th>channelTitle</th>\n",
       "      <th>title</th>\n",
       "      <th>description</th>\n",
       "      <th>tags</th>\n",
       "      <th>publishedAt</th>\n",
       "      <th>viewCount</th>\n",
       "      <th>likeCount</th>\n",
       "      <th>favouriteCount</th>\n",
       "      <th>commentCount</th>\n",
       "      <th>duration</th>\n",
       "      <th>definition</th>\n",
       "      <th>caption</th>\n",
       "    </tr>\n",
       "  </thead>\n",
       "  <tbody>\n",
       "    <tr>\n",
       "      <th>0</th>\n",
       "      <td>hQBwCWtXkK0</td>\n",
       "      <td>freeCodeCamp.org</td>\n",
       "      <td>Create An Elementor WordPress Website – Elemen...</td>\n",
       "      <td>In this full Elementor WordPress course for be...</td>\n",
       "      <td>None</td>\n",
       "      <td>2022-07-25T12:54:48Z</td>\n",
       "      <td>19716</td>\n",
       "      <td>746</td>\n",
       "      <td>None</td>\n",
       "      <td>41</td>\n",
       "      <td>PT1H22M1S</td>\n",
       "      <td>hd</td>\n",
       "      <td>false</td>\n",
       "    </tr>\n",
       "    <tr>\n",
       "      <th>1</th>\n",
       "      <td>J-cSy5MeMOA</td>\n",
       "      <td>freeCodeCamp.org</td>\n",
       "      <td>Apache Cassandra Database – Full Course for Be...</td>\n",
       "      <td>Apache Cassandra is an open source NoSQL distr...</td>\n",
       "      <td>[database, nosql, Cassandra, apache cassandra,...</td>\n",
       "      <td>2022-07-21T13:06:38Z</td>\n",
       "      <td>37511</td>\n",
       "      <td>1193</td>\n",
       "      <td>None</td>\n",
       "      <td>75</td>\n",
       "      <td>PT1H8M40S</td>\n",
       "      <td>hd</td>\n",
       "      <td>false</td>\n",
       "    </tr>\n",
       "    <tr>\n",
       "      <th>2</th>\n",
       "      <td>OIc7urJC0zY</td>\n",
       "      <td>freeCodeCamp.org</td>\n",
       "      <td>Think Like a Computer Science Professor</td>\n",
       "      <td>See how to think like a computer science profe...</td>\n",
       "      <td>None</td>\n",
       "      <td>2022-07-20T14:31:03Z</td>\n",
       "      <td>68166</td>\n",
       "      <td>3038</td>\n",
       "      <td>None</td>\n",
       "      <td>175</td>\n",
       "      <td>PT12H48M12S</td>\n",
       "      <td>hd</td>\n",
       "      <td>false</td>\n",
       "    </tr>\n",
       "    <tr>\n",
       "      <th>3</th>\n",
       "      <td>ChTGbmR2NeM</td>\n",
       "      <td>freeCodeCamp.org</td>\n",
       "      <td>How to Build an MVP for Your App – Full Course...</td>\n",
       "      <td>Learn how to build a Minimum Viable Product (M...</td>\n",
       "      <td>None</td>\n",
       "      <td>2022-07-19T13:32:32Z</td>\n",
       "      <td>50479</td>\n",
       "      <td>1548</td>\n",
       "      <td>None</td>\n",
       "      <td>63</td>\n",
       "      <td>PT1H14M21S</td>\n",
       "      <td>hd</td>\n",
       "      <td>false</td>\n",
       "    </tr>\n",
       "    <tr>\n",
       "      <th>4</th>\n",
       "      <td>Reny0cTTv24</td>\n",
       "      <td>freeCodeCamp.org</td>\n",
       "      <td>React JS Tutorial – Build a Weather App With C...</td>\n",
       "      <td>In this React project tutorial, you will learn...</td>\n",
       "      <td>None</td>\n",
       "      <td>2022-07-14T13:11:30Z</td>\n",
       "      <td>87419</td>\n",
       "      <td>2869</td>\n",
       "      <td>None</td>\n",
       "      <td>175</td>\n",
       "      <td>PT1H35M59S</td>\n",
       "      <td>hd</td>\n",
       "      <td>false</td>\n",
       "    </tr>\n",
       "    <tr>\n",
       "      <th>...</th>\n",
       "      <td>...</td>\n",
       "      <td>...</td>\n",
       "      <td>...</td>\n",
       "      <td>...</td>\n",
       "      <td>...</td>\n",
       "      <td>...</td>\n",
       "      <td>...</td>\n",
       "      <td>...</td>\n",
       "      <td>...</td>\n",
       "      <td>...</td>\n",
       "      <td>...</td>\n",
       "      <td>...</td>\n",
       "      <td>...</td>\n",
       "    </tr>\n",
       "    <tr>\n",
       "      <th>1325</th>\n",
       "      <td>_uWzpyr_5qk</td>\n",
       "      <td>freeCodeCamp.org</td>\n",
       "      <td>Computer Basics 5: How To Measure Data Size</td>\n",
       "      <td>http://FreeCodeCamp.com is a community of busy...</td>\n",
       "      <td>[Free Code Camp, JavaScript, Pair Programming,...</td>\n",
       "      <td>2015-07-17T08:31:23Z</td>\n",
       "      <td>41540</td>\n",
       "      <td>None</td>\n",
       "      <td>None</td>\n",
       "      <td>27</td>\n",
       "      <td>PT2M24S</td>\n",
       "      <td>hd</td>\n",
       "      <td>false</td>\n",
       "    </tr>\n",
       "    <tr>\n",
       "      <th>1326</th>\n",
       "      <td>xXLj5MbrI44</td>\n",
       "      <td>freeCodeCamp.org</td>\n",
       "      <td>Computer Basics 4: Decoding a Binary Number</td>\n",
       "      <td>http://FreeCodeCamp.com is a community of busy...</td>\n",
       "      <td>[Free Code Camp, JavaScript, Pair Programming,...</td>\n",
       "      <td>2015-07-17T08:31:20Z</td>\n",
       "      <td>53108</td>\n",
       "      <td>None</td>\n",
       "      <td>None</td>\n",
       "      <td>27</td>\n",
       "      <td>PT1M42S</td>\n",
       "      <td>hd</td>\n",
       "      <td>true</td>\n",
       "    </tr>\n",
       "    <tr>\n",
       "      <th>1327</th>\n",
       "      <td>veugT7A9psY</td>\n",
       "      <td>freeCodeCamp.org</td>\n",
       "      <td>Computer Basics 3: Intro to Binary Code</td>\n",
       "      <td>http://FreeCodeCamp.com is a community of busy...</td>\n",
       "      <td>[Free Code Camp, JavaScript, Pair Programming,...</td>\n",
       "      <td>2015-07-17T08:31:17Z</td>\n",
       "      <td>46843</td>\n",
       "      <td>None</td>\n",
       "      <td>None</td>\n",
       "      <td>9</td>\n",
       "      <td>PT1M</td>\n",
       "      <td>hd</td>\n",
       "      <td>true</td>\n",
       "    </tr>\n",
       "    <tr>\n",
       "      <th>1328</th>\n",
       "      <td>xj9mFD71Vfc</td>\n",
       "      <td>freeCodeCamp.org</td>\n",
       "      <td>Computer Basics 2: More Computer Hardware</td>\n",
       "      <td>http://FreeCodeCamp.com is a community of busy...</td>\n",
       "      <td>[Free Code Camp, JavaScript, Pair Programming,...</td>\n",
       "      <td>2015-07-17T08:31:14Z</td>\n",
       "      <td>52936</td>\n",
       "      <td>None</td>\n",
       "      <td>None</td>\n",
       "      <td>12</td>\n",
       "      <td>PT1M12S</td>\n",
       "      <td>hd</td>\n",
       "      <td>true</td>\n",
       "    </tr>\n",
       "    <tr>\n",
       "      <th>1329</th>\n",
       "      <td>q7tlgZg4Q1o</td>\n",
       "      <td>freeCodeCamp.org</td>\n",
       "      <td>Computer Basics 1: The 4 Basic Parts of a Comp...</td>\n",
       "      <td>http://FreeCodeCamp.com is a community of busy...</td>\n",
       "      <td>[Free Code Camp, JavaScript, Pair Programming,...</td>\n",
       "      <td>2015-07-17T08:31:10Z</td>\n",
       "      <td>123346</td>\n",
       "      <td>None</td>\n",
       "      <td>None</td>\n",
       "      <td>55</td>\n",
       "      <td>PT1M4S</td>\n",
       "      <td>hd</td>\n",
       "      <td>true</td>\n",
       "    </tr>\n",
       "  </tbody>\n",
       "</table>\n",
       "<p>1330 rows × 13 columns</p>\n",
       "</div>"
      ],
      "text/plain": [
       "         video_id      channelTitle  \\\n",
       "0     hQBwCWtXkK0  freeCodeCamp.org   \n",
       "1     J-cSy5MeMOA  freeCodeCamp.org   \n",
       "2     OIc7urJC0zY  freeCodeCamp.org   \n",
       "3     ChTGbmR2NeM  freeCodeCamp.org   \n",
       "4     Reny0cTTv24  freeCodeCamp.org   \n",
       "...           ...               ...   \n",
       "1325  _uWzpyr_5qk  freeCodeCamp.org   \n",
       "1326  xXLj5MbrI44  freeCodeCamp.org   \n",
       "1327  veugT7A9psY  freeCodeCamp.org   \n",
       "1328  xj9mFD71Vfc  freeCodeCamp.org   \n",
       "1329  q7tlgZg4Q1o  freeCodeCamp.org   \n",
       "\n",
       "                                                  title  \\\n",
       "0     Create An Elementor WordPress Website – Elemen...   \n",
       "1     Apache Cassandra Database – Full Course for Be...   \n",
       "2               Think Like a Computer Science Professor   \n",
       "3     How to Build an MVP for Your App – Full Course...   \n",
       "4     React JS Tutorial – Build a Weather App With C...   \n",
       "...                                                 ...   \n",
       "1325        Computer Basics 5: How To Measure Data Size   \n",
       "1326        Computer Basics 4: Decoding a Binary Number   \n",
       "1327            Computer Basics 3: Intro to Binary Code   \n",
       "1328          Computer Basics 2: More Computer Hardware   \n",
       "1329  Computer Basics 1: The 4 Basic Parts of a Comp...   \n",
       "\n",
       "                                            description  \\\n",
       "0     In this full Elementor WordPress course for be...   \n",
       "1     Apache Cassandra is an open source NoSQL distr...   \n",
       "2     See how to think like a computer science profe...   \n",
       "3     Learn how to build a Minimum Viable Product (M...   \n",
       "4     In this React project tutorial, you will learn...   \n",
       "...                                                 ...   \n",
       "1325  http://FreeCodeCamp.com is a community of busy...   \n",
       "1326  http://FreeCodeCamp.com is a community of busy...   \n",
       "1327  http://FreeCodeCamp.com is a community of busy...   \n",
       "1328  http://FreeCodeCamp.com is a community of busy...   \n",
       "1329  http://FreeCodeCamp.com is a community of busy...   \n",
       "\n",
       "                                                   tags           publishedAt  \\\n",
       "0                                                  None  2022-07-25T12:54:48Z   \n",
       "1     [database, nosql, Cassandra, apache cassandra,...  2022-07-21T13:06:38Z   \n",
       "2                                                  None  2022-07-20T14:31:03Z   \n",
       "3                                                  None  2022-07-19T13:32:32Z   \n",
       "4                                                  None  2022-07-14T13:11:30Z   \n",
       "...                                                 ...                   ...   \n",
       "1325  [Free Code Camp, JavaScript, Pair Programming,...  2015-07-17T08:31:23Z   \n",
       "1326  [Free Code Camp, JavaScript, Pair Programming,...  2015-07-17T08:31:20Z   \n",
       "1327  [Free Code Camp, JavaScript, Pair Programming,...  2015-07-17T08:31:17Z   \n",
       "1328  [Free Code Camp, JavaScript, Pair Programming,...  2015-07-17T08:31:14Z   \n",
       "1329  [Free Code Camp, JavaScript, Pair Programming,...  2015-07-17T08:31:10Z   \n",
       "\n",
       "     viewCount likeCount favouriteCount commentCount     duration definition  \\\n",
       "0        19716       746           None           41    PT1H22M1S         hd   \n",
       "1        37511      1193           None           75    PT1H8M40S         hd   \n",
       "2        68166      3038           None          175  PT12H48M12S         hd   \n",
       "3        50479      1548           None           63   PT1H14M21S         hd   \n",
       "4        87419      2869           None          175   PT1H35M59S         hd   \n",
       "...        ...       ...            ...          ...          ...        ...   \n",
       "1325     41540      None           None           27      PT2M24S         hd   \n",
       "1326     53108      None           None           27      PT1M42S         hd   \n",
       "1327     46843      None           None            9         PT1M         hd   \n",
       "1328     52936      None           None           12      PT1M12S         hd   \n",
       "1329    123346      None           None           55       PT1M4S         hd   \n",
       "\n",
       "     caption  \n",
       "0      false  \n",
       "1      false  \n",
       "2      false  \n",
       "3      false  \n",
       "4      false  \n",
       "...      ...  \n",
       "1325   false  \n",
       "1326    true  \n",
       "1327    true  \n",
       "1328    true  \n",
       "1329    true  \n",
       "\n",
       "[1330 rows x 13 columns]"
      ]
     },
     "execution_count": 33,
     "metadata": {},
     "output_type": "execute_result"
    }
   ],
   "source": [
    "# Get video details\n",
    "\n",
    "video_df = get_video_details(youtube, video_ids)\n",
    "video_df"
   ]
  },
  {
   "cell_type": "markdown",
   "id": "2c0fd916-6ace-4713-8e43-aa4873b44f75",
   "metadata": {},
   "source": [
    "## Data pre-processing"
   ]
  },
  {
   "cell_type": "code",
   "execution_count": 34,
   "id": "4b442b97-a90e-43d9-ab47-e39e327b11c7",
   "metadata": {},
   "outputs": [
    {
     "data": {
      "text/plain": [
       "video_id          False\n",
       "channelTitle      False\n",
       "title             False\n",
       "description       False\n",
       "tags               True\n",
       "publishedAt       False\n",
       "viewCount         False\n",
       "likeCount          True\n",
       "favouriteCount     True\n",
       "commentCount      False\n",
       "duration          False\n",
       "definition        False\n",
       "caption           False\n",
       "dtype: bool"
      ]
     },
     "execution_count": 34,
     "metadata": {},
     "output_type": "execute_result"
    }
   ],
   "source": [
    "# Check for NULL values\n",
    "\n",
    "video_df.isnull().any()"
   ]
  },
  {
   "cell_type": "code",
   "execution_count": 35,
   "id": "1b30c571-0374-4685-8141-1f5ab97bc550",
   "metadata": {},
   "outputs": [
    {
     "data": {
      "text/plain": [
       "video_id          object\n",
       "channelTitle      object\n",
       "title             object\n",
       "description       object\n",
       "tags              object\n",
       "publishedAt       object\n",
       "viewCount         object\n",
       "likeCount         object\n",
       "favouriteCount    object\n",
       "commentCount      object\n",
       "duration          object\n",
       "definition        object\n",
       "caption           object\n",
       "dtype: object"
      ]
     },
     "execution_count": 35,
     "metadata": {},
     "output_type": "execute_result"
    }
   ],
   "source": [
    "# Check data types\n",
    "\n",
    "video_df.dtypes"
   ]
  },
  {
   "cell_type": "code",
   "execution_count": 36,
   "id": "2ae8b26c-a455-4761-80d8-ee2fd464d984",
   "metadata": {},
   "outputs": [],
   "source": [
    "# Convert count columns to numeric\n",
    "\n",
    "numeric_cols = ['viewCount', 'likeCount', 'favouriteCount', 'commentCount']\n",
    "video_df[numeric_cols] = video_df[numeric_cols].apply(pd.to_numeric, errors = 'coerce', axis = 1)"
   ]
  },
  {
   "cell_type": "code",
   "execution_count": 37,
   "id": "a595fad0-07f1-4a8a-ac71-3537cb7dbec1",
   "metadata": {},
   "outputs": [],
   "source": [
    "# Publish day in the week\n",
    "\n",
    "video_df['publishedAt'] = video_df['publishedAt'].apply(lambda x: parser.parse(x)) \n",
    "video_df['pushblishDayName'] = video_df['publishedAt'].apply(lambda x: x.strftime(\"%A\")) "
   ]
  },
  {
   "cell_type": "code",
   "execution_count": 38,
   "id": "8212e943-4679-45ff-8dbe-cef0bd48174c",
   "metadata": {},
   "outputs": [],
   "source": [
    "# convert duration to seconds\n",
    "\n",
    "import isodate\n",
    "video_df['durationSecs'] = video_df['duration'].apply(lambda x: isodate.parse_duration(x))\n",
    "video_df['durationSecs'] = video_df['durationSecs'].astype('timedelta64[s]')"
   ]
  },
  {
   "cell_type": "code",
   "execution_count": 39,
   "id": "2aa54b04-7db6-47ec-bba6-6f41b95c7085",
   "metadata": {
    "tags": []
   },
   "outputs": [
    {
     "data": {
      "text/html": [
       "<div>\n",
       "<style scoped>\n",
       "    .dataframe tbody tr th:only-of-type {\n",
       "        vertical-align: middle;\n",
       "    }\n",
       "\n",
       "    .dataframe tbody tr th {\n",
       "        vertical-align: top;\n",
       "    }\n",
       "\n",
       "    .dataframe thead th {\n",
       "        text-align: right;\n",
       "    }\n",
       "</style>\n",
       "<table border=\"1\" class=\"dataframe\">\n",
       "  <thead>\n",
       "    <tr style=\"text-align: right;\">\n",
       "      <th></th>\n",
       "      <th>durationSecs</th>\n",
       "      <th>duration</th>\n",
       "    </tr>\n",
       "  </thead>\n",
       "  <tbody>\n",
       "    <tr>\n",
       "      <th>0</th>\n",
       "      <td>4921.0</td>\n",
       "      <td>PT1H22M1S</td>\n",
       "    </tr>\n",
       "    <tr>\n",
       "      <th>1</th>\n",
       "      <td>4120.0</td>\n",
       "      <td>PT1H8M40S</td>\n",
       "    </tr>\n",
       "    <tr>\n",
       "      <th>2</th>\n",
       "      <td>46092.0</td>\n",
       "      <td>PT12H48M12S</td>\n",
       "    </tr>\n",
       "    <tr>\n",
       "      <th>3</th>\n",
       "      <td>4461.0</td>\n",
       "      <td>PT1H14M21S</td>\n",
       "    </tr>\n",
       "    <tr>\n",
       "      <th>4</th>\n",
       "      <td>5759.0</td>\n",
       "      <td>PT1H35M59S</td>\n",
       "    </tr>\n",
       "    <tr>\n",
       "      <th>...</th>\n",
       "      <td>...</td>\n",
       "      <td>...</td>\n",
       "    </tr>\n",
       "    <tr>\n",
       "      <th>1325</th>\n",
       "      <td>144.0</td>\n",
       "      <td>PT2M24S</td>\n",
       "    </tr>\n",
       "    <tr>\n",
       "      <th>1326</th>\n",
       "      <td>102.0</td>\n",
       "      <td>PT1M42S</td>\n",
       "    </tr>\n",
       "    <tr>\n",
       "      <th>1327</th>\n",
       "      <td>60.0</td>\n",
       "      <td>PT1M</td>\n",
       "    </tr>\n",
       "    <tr>\n",
       "      <th>1328</th>\n",
       "      <td>72.0</td>\n",
       "      <td>PT1M12S</td>\n",
       "    </tr>\n",
       "    <tr>\n",
       "      <th>1329</th>\n",
       "      <td>64.0</td>\n",
       "      <td>PT1M4S</td>\n",
       "    </tr>\n",
       "  </tbody>\n",
       "</table>\n",
       "<p>1330 rows × 2 columns</p>\n",
       "</div>"
      ],
      "text/plain": [
       "      durationSecs     duration\n",
       "0           4921.0    PT1H22M1S\n",
       "1           4120.0    PT1H8M40S\n",
       "2          46092.0  PT12H48M12S\n",
       "3           4461.0   PT1H14M21S\n",
       "4           5759.0   PT1H35M59S\n",
       "...            ...          ...\n",
       "1325         144.0      PT2M24S\n",
       "1326         102.0      PT1M42S\n",
       "1327          60.0         PT1M\n",
       "1328          72.0      PT1M12S\n",
       "1329          64.0       PT1M4S\n",
       "\n",
       "[1330 rows x 2 columns]"
      ]
     },
     "execution_count": 39,
     "metadata": {},
     "output_type": "execute_result"
    }
   ],
   "source": [
    "video_df[['durationSecs', 'duration']] "
   ]
  },
  {
   "cell_type": "code",
   "execution_count": 40,
   "id": "5573912d-0110-4f0b-8f6a-62aabb519186",
   "metadata": {},
   "outputs": [],
   "source": [
    "# Add tag count\n",
    "video_df['tagCount'] = video_df['tags'].apply(lambda x: 0 if x is None else len(x))"
   ]
  },
  {
   "cell_type": "code",
   "execution_count": 41,
   "id": "8e07e855-6927-42e9-b38b-303a79c2e4a5",
   "metadata": {},
   "outputs": [
    {
     "data": {
      "text/html": [
       "<div>\n",
       "<style scoped>\n",
       "    .dataframe tbody tr th:only-of-type {\n",
       "        vertical-align: middle;\n",
       "    }\n",
       "\n",
       "    .dataframe tbody tr th {\n",
       "        vertical-align: top;\n",
       "    }\n",
       "\n",
       "    .dataframe thead th {\n",
       "        text-align: right;\n",
       "    }\n",
       "</style>\n",
       "<table border=\"1\" class=\"dataframe\">\n",
       "  <thead>\n",
       "    <tr style=\"text-align: right;\">\n",
       "      <th></th>\n",
       "      <th>video_id</th>\n",
       "      <th>channelTitle</th>\n",
       "      <th>title</th>\n",
       "      <th>description</th>\n",
       "      <th>tags</th>\n",
       "      <th>publishedAt</th>\n",
       "      <th>viewCount</th>\n",
       "      <th>likeCount</th>\n",
       "      <th>favouriteCount</th>\n",
       "      <th>commentCount</th>\n",
       "      <th>duration</th>\n",
       "      <th>definition</th>\n",
       "      <th>caption</th>\n",
       "      <th>pushblishDayName</th>\n",
       "      <th>durationSecs</th>\n",
       "      <th>tagCount</th>\n",
       "    </tr>\n",
       "  </thead>\n",
       "  <tbody>\n",
       "    <tr>\n",
       "      <th>0</th>\n",
       "      <td>hQBwCWtXkK0</td>\n",
       "      <td>freeCodeCamp.org</td>\n",
       "      <td>Create An Elementor WordPress Website – Elemen...</td>\n",
       "      <td>In this full Elementor WordPress course for be...</td>\n",
       "      <td>None</td>\n",
       "      <td>2022-07-25 12:54:48+00:00</td>\n",
       "      <td>19716.0</td>\n",
       "      <td>746.0</td>\n",
       "      <td>NaN</td>\n",
       "      <td>41.0</td>\n",
       "      <td>PT1H22M1S</td>\n",
       "      <td>hd</td>\n",
       "      <td>false</td>\n",
       "      <td>Monday</td>\n",
       "      <td>4921.0</td>\n",
       "      <td>0</td>\n",
       "    </tr>\n",
       "    <tr>\n",
       "      <th>1</th>\n",
       "      <td>J-cSy5MeMOA</td>\n",
       "      <td>freeCodeCamp.org</td>\n",
       "      <td>Apache Cassandra Database – Full Course for Be...</td>\n",
       "      <td>Apache Cassandra is an open source NoSQL distr...</td>\n",
       "      <td>[database, nosql, Cassandra, apache cassandra,...</td>\n",
       "      <td>2022-07-21 13:06:38+00:00</td>\n",
       "      <td>37511.0</td>\n",
       "      <td>1193.0</td>\n",
       "      <td>NaN</td>\n",
       "      <td>75.0</td>\n",
       "      <td>PT1H8M40S</td>\n",
       "      <td>hd</td>\n",
       "      <td>false</td>\n",
       "      <td>Thursday</td>\n",
       "      <td>4120.0</td>\n",
       "      <td>11</td>\n",
       "    </tr>\n",
       "    <tr>\n",
       "      <th>2</th>\n",
       "      <td>OIc7urJC0zY</td>\n",
       "      <td>freeCodeCamp.org</td>\n",
       "      <td>Think Like a Computer Science Professor</td>\n",
       "      <td>See how to think like a computer science profe...</td>\n",
       "      <td>None</td>\n",
       "      <td>2022-07-20 14:31:03+00:00</td>\n",
       "      <td>68166.0</td>\n",
       "      <td>3038.0</td>\n",
       "      <td>NaN</td>\n",
       "      <td>175.0</td>\n",
       "      <td>PT12H48M12S</td>\n",
       "      <td>hd</td>\n",
       "      <td>false</td>\n",
       "      <td>Wednesday</td>\n",
       "      <td>46092.0</td>\n",
       "      <td>0</td>\n",
       "    </tr>\n",
       "    <tr>\n",
       "      <th>3</th>\n",
       "      <td>ChTGbmR2NeM</td>\n",
       "      <td>freeCodeCamp.org</td>\n",
       "      <td>How to Build an MVP for Your App – Full Course...</td>\n",
       "      <td>Learn how to build a Minimum Viable Product (M...</td>\n",
       "      <td>None</td>\n",
       "      <td>2022-07-19 13:32:32+00:00</td>\n",
       "      <td>50479.0</td>\n",
       "      <td>1548.0</td>\n",
       "      <td>NaN</td>\n",
       "      <td>63.0</td>\n",
       "      <td>PT1H14M21S</td>\n",
       "      <td>hd</td>\n",
       "      <td>false</td>\n",
       "      <td>Tuesday</td>\n",
       "      <td>4461.0</td>\n",
       "      <td>0</td>\n",
       "    </tr>\n",
       "    <tr>\n",
       "      <th>4</th>\n",
       "      <td>Reny0cTTv24</td>\n",
       "      <td>freeCodeCamp.org</td>\n",
       "      <td>React JS Tutorial – Build a Weather App With C...</td>\n",
       "      <td>In this React project tutorial, you will learn...</td>\n",
       "      <td>None</td>\n",
       "      <td>2022-07-14 13:11:30+00:00</td>\n",
       "      <td>87419.0</td>\n",
       "      <td>2869.0</td>\n",
       "      <td>NaN</td>\n",
       "      <td>175.0</td>\n",
       "      <td>PT1H35M59S</td>\n",
       "      <td>hd</td>\n",
       "      <td>false</td>\n",
       "      <td>Thursday</td>\n",
       "      <td>5759.0</td>\n",
       "      <td>0</td>\n",
       "    </tr>\n",
       "    <tr>\n",
       "      <th>...</th>\n",
       "      <td>...</td>\n",
       "      <td>...</td>\n",
       "      <td>...</td>\n",
       "      <td>...</td>\n",
       "      <td>...</td>\n",
       "      <td>...</td>\n",
       "      <td>...</td>\n",
       "      <td>...</td>\n",
       "      <td>...</td>\n",
       "      <td>...</td>\n",
       "      <td>...</td>\n",
       "      <td>...</td>\n",
       "      <td>...</td>\n",
       "      <td>...</td>\n",
       "      <td>...</td>\n",
       "      <td>...</td>\n",
       "    </tr>\n",
       "    <tr>\n",
       "      <th>1325</th>\n",
       "      <td>_uWzpyr_5qk</td>\n",
       "      <td>freeCodeCamp.org</td>\n",
       "      <td>Computer Basics 5: How To Measure Data Size</td>\n",
       "      <td>http://FreeCodeCamp.com is a community of busy...</td>\n",
       "      <td>[Free Code Camp, JavaScript, Pair Programming,...</td>\n",
       "      <td>2015-07-17 08:31:23+00:00</td>\n",
       "      <td>41540.0</td>\n",
       "      <td>NaN</td>\n",
       "      <td>NaN</td>\n",
       "      <td>27.0</td>\n",
       "      <td>PT2M24S</td>\n",
       "      <td>hd</td>\n",
       "      <td>false</td>\n",
       "      <td>Friday</td>\n",
       "      <td>144.0</td>\n",
       "      <td>22</td>\n",
       "    </tr>\n",
       "    <tr>\n",
       "      <th>1326</th>\n",
       "      <td>xXLj5MbrI44</td>\n",
       "      <td>freeCodeCamp.org</td>\n",
       "      <td>Computer Basics 4: Decoding a Binary Number</td>\n",
       "      <td>http://FreeCodeCamp.com is a community of busy...</td>\n",
       "      <td>[Free Code Camp, JavaScript, Pair Programming,...</td>\n",
       "      <td>2015-07-17 08:31:20+00:00</td>\n",
       "      <td>53108.0</td>\n",
       "      <td>NaN</td>\n",
       "      <td>NaN</td>\n",
       "      <td>27.0</td>\n",
       "      <td>PT1M42S</td>\n",
       "      <td>hd</td>\n",
       "      <td>true</td>\n",
       "      <td>Friday</td>\n",
       "      <td>102.0</td>\n",
       "      <td>22</td>\n",
       "    </tr>\n",
       "    <tr>\n",
       "      <th>1327</th>\n",
       "      <td>veugT7A9psY</td>\n",
       "      <td>freeCodeCamp.org</td>\n",
       "      <td>Computer Basics 3: Intro to Binary Code</td>\n",
       "      <td>http://FreeCodeCamp.com is a community of busy...</td>\n",
       "      <td>[Free Code Camp, JavaScript, Pair Programming,...</td>\n",
       "      <td>2015-07-17 08:31:17+00:00</td>\n",
       "      <td>46843.0</td>\n",
       "      <td>NaN</td>\n",
       "      <td>NaN</td>\n",
       "      <td>9.0</td>\n",
       "      <td>PT1M</td>\n",
       "      <td>hd</td>\n",
       "      <td>true</td>\n",
       "      <td>Friday</td>\n",
       "      <td>60.0</td>\n",
       "      <td>19</td>\n",
       "    </tr>\n",
       "    <tr>\n",
       "      <th>1328</th>\n",
       "      <td>xj9mFD71Vfc</td>\n",
       "      <td>freeCodeCamp.org</td>\n",
       "      <td>Computer Basics 2: More Computer Hardware</td>\n",
       "      <td>http://FreeCodeCamp.com is a community of busy...</td>\n",
       "      <td>[Free Code Camp, JavaScript, Pair Programming,...</td>\n",
       "      <td>2015-07-17 08:31:14+00:00</td>\n",
       "      <td>52936.0</td>\n",
       "      <td>NaN</td>\n",
       "      <td>NaN</td>\n",
       "      <td>12.0</td>\n",
       "      <td>PT1M12S</td>\n",
       "      <td>hd</td>\n",
       "      <td>true</td>\n",
       "      <td>Friday</td>\n",
       "      <td>72.0</td>\n",
       "      <td>20</td>\n",
       "    </tr>\n",
       "    <tr>\n",
       "      <th>1329</th>\n",
       "      <td>q7tlgZg4Q1o</td>\n",
       "      <td>freeCodeCamp.org</td>\n",
       "      <td>Computer Basics 1: The 4 Basic Parts of a Comp...</td>\n",
       "      <td>http://FreeCodeCamp.com is a community of busy...</td>\n",
       "      <td>[Free Code Camp, JavaScript, Pair Programming,...</td>\n",
       "      <td>2015-07-17 08:31:10+00:00</td>\n",
       "      <td>123346.0</td>\n",
       "      <td>NaN</td>\n",
       "      <td>NaN</td>\n",
       "      <td>55.0</td>\n",
       "      <td>PT1M4S</td>\n",
       "      <td>hd</td>\n",
       "      <td>true</td>\n",
       "      <td>Friday</td>\n",
       "      <td>64.0</td>\n",
       "      <td>17</td>\n",
       "    </tr>\n",
       "  </tbody>\n",
       "</table>\n",
       "<p>1330 rows × 16 columns</p>\n",
       "</div>"
      ],
      "text/plain": [
       "         video_id      channelTitle  \\\n",
       "0     hQBwCWtXkK0  freeCodeCamp.org   \n",
       "1     J-cSy5MeMOA  freeCodeCamp.org   \n",
       "2     OIc7urJC0zY  freeCodeCamp.org   \n",
       "3     ChTGbmR2NeM  freeCodeCamp.org   \n",
       "4     Reny0cTTv24  freeCodeCamp.org   \n",
       "...           ...               ...   \n",
       "1325  _uWzpyr_5qk  freeCodeCamp.org   \n",
       "1326  xXLj5MbrI44  freeCodeCamp.org   \n",
       "1327  veugT7A9psY  freeCodeCamp.org   \n",
       "1328  xj9mFD71Vfc  freeCodeCamp.org   \n",
       "1329  q7tlgZg4Q1o  freeCodeCamp.org   \n",
       "\n",
       "                                                  title  \\\n",
       "0     Create An Elementor WordPress Website – Elemen...   \n",
       "1     Apache Cassandra Database – Full Course for Be...   \n",
       "2               Think Like a Computer Science Professor   \n",
       "3     How to Build an MVP for Your App – Full Course...   \n",
       "4     React JS Tutorial – Build a Weather App With C...   \n",
       "...                                                 ...   \n",
       "1325        Computer Basics 5: How To Measure Data Size   \n",
       "1326        Computer Basics 4: Decoding a Binary Number   \n",
       "1327            Computer Basics 3: Intro to Binary Code   \n",
       "1328          Computer Basics 2: More Computer Hardware   \n",
       "1329  Computer Basics 1: The 4 Basic Parts of a Comp...   \n",
       "\n",
       "                                            description  \\\n",
       "0     In this full Elementor WordPress course for be...   \n",
       "1     Apache Cassandra is an open source NoSQL distr...   \n",
       "2     See how to think like a computer science profe...   \n",
       "3     Learn how to build a Minimum Viable Product (M...   \n",
       "4     In this React project tutorial, you will learn...   \n",
       "...                                                 ...   \n",
       "1325  http://FreeCodeCamp.com is a community of busy...   \n",
       "1326  http://FreeCodeCamp.com is a community of busy...   \n",
       "1327  http://FreeCodeCamp.com is a community of busy...   \n",
       "1328  http://FreeCodeCamp.com is a community of busy...   \n",
       "1329  http://FreeCodeCamp.com is a community of busy...   \n",
       "\n",
       "                                                   tags  \\\n",
       "0                                                  None   \n",
       "1     [database, nosql, Cassandra, apache cassandra,...   \n",
       "2                                                  None   \n",
       "3                                                  None   \n",
       "4                                                  None   \n",
       "...                                                 ...   \n",
       "1325  [Free Code Camp, JavaScript, Pair Programming,...   \n",
       "1326  [Free Code Camp, JavaScript, Pair Programming,...   \n",
       "1327  [Free Code Camp, JavaScript, Pair Programming,...   \n",
       "1328  [Free Code Camp, JavaScript, Pair Programming,...   \n",
       "1329  [Free Code Camp, JavaScript, Pair Programming,...   \n",
       "\n",
       "                   publishedAt  viewCount  likeCount  favouriteCount  \\\n",
       "0    2022-07-25 12:54:48+00:00    19716.0      746.0             NaN   \n",
       "1    2022-07-21 13:06:38+00:00    37511.0     1193.0             NaN   \n",
       "2    2022-07-20 14:31:03+00:00    68166.0     3038.0             NaN   \n",
       "3    2022-07-19 13:32:32+00:00    50479.0     1548.0             NaN   \n",
       "4    2022-07-14 13:11:30+00:00    87419.0     2869.0             NaN   \n",
       "...                        ...        ...        ...             ...   \n",
       "1325 2015-07-17 08:31:23+00:00    41540.0        NaN             NaN   \n",
       "1326 2015-07-17 08:31:20+00:00    53108.0        NaN             NaN   \n",
       "1327 2015-07-17 08:31:17+00:00    46843.0        NaN             NaN   \n",
       "1328 2015-07-17 08:31:14+00:00    52936.0        NaN             NaN   \n",
       "1329 2015-07-17 08:31:10+00:00   123346.0        NaN             NaN   \n",
       "\n",
       "      commentCount     duration definition caption pushblishDayName  \\\n",
       "0             41.0    PT1H22M1S         hd   false           Monday   \n",
       "1             75.0    PT1H8M40S         hd   false         Thursday   \n",
       "2            175.0  PT12H48M12S         hd   false        Wednesday   \n",
       "3             63.0   PT1H14M21S         hd   false          Tuesday   \n",
       "4            175.0   PT1H35M59S         hd   false         Thursday   \n",
       "...            ...          ...        ...     ...              ...   \n",
       "1325          27.0      PT2M24S         hd   false           Friday   \n",
       "1326          27.0      PT1M42S         hd    true           Friday   \n",
       "1327           9.0         PT1M         hd    true           Friday   \n",
       "1328          12.0      PT1M12S         hd    true           Friday   \n",
       "1329          55.0       PT1M4S         hd    true           Friday   \n",
       "\n",
       "      durationSecs  tagCount  \n",
       "0           4921.0         0  \n",
       "1           4120.0        11  \n",
       "2          46092.0         0  \n",
       "3           4461.0         0  \n",
       "4           5759.0         0  \n",
       "...            ...       ...  \n",
       "1325         144.0        22  \n",
       "1326         102.0        22  \n",
       "1327          60.0        19  \n",
       "1328          72.0        20  \n",
       "1329          64.0        17  \n",
       "\n",
       "[1330 rows x 16 columns]"
      ]
     },
     "execution_count": 41,
     "metadata": {},
     "output_type": "execute_result"
    }
   ],
   "source": [
    "video_df"
   ]
  },
  {
   "cell_type": "markdown",
   "id": "1595564b-5a3c-4f5b-b8f5-8430d581c584",
   "metadata": {},
   "source": [
    "## EDA"
   ]
  },
  {
   "cell_type": "markdown",
   "id": "809e0404-d08c-49df-9156-4a0a29c8b111",
   "metadata": {
    "tags": []
   },
   "source": [
    "### Best performing videos"
   ]
  },
  {
   "cell_type": "code",
   "execution_count": 42,
   "id": "5c9e62b5-b7dd-464c-9668-ffc279caa6e9",
   "metadata": {},
   "outputs": [
    {
     "data": {
      "image/png": "[encoded data removed]",
      "text/plain": [
       "<Figure size 432x288 with 1 Axes>"
      ]
     },
     "metadata": {
      "needs_background": "light"
     },
     "output_type": "display_data"
    }
   ],
   "source": [
    "ax = sns.barplot(x = 'title', y = 'viewCount', data = video_df.sort_values('viewCount', ascending=False)[0:9])\n",
    "plot = ax.set_xticklabels(ax.get_xticklabels(), rotation=90)\n",
    "ax.yaxis.set_major_formatter(ticker.FuncFormatter(lambda x, pos:'{:,.0f}'.format(x/1000) + 'K'))"
   ]
  },
  {
   "cell_type": "markdown",
   "id": "05f9b3c0-74e9-4331-a5d6-4102f4da3fc4",
   "metadata": {},
   "source": [
    "### Worst performing videos"
   ]
  },
  {
   "cell_type": "code",
   "execution_count": 43,
   "id": "a982793d-71cc-4ba2-ac8f-702313149ca6",
   "metadata": {},
   "outputs": [
    {
     "data": {
      "image/png": "[encoded data removed]",
      "text/plain": [
       "<Figure size 432x288 with 1 Axes>"
      ]
     },
     "metadata": {
      "needs_background": "light"
     },
     "output_type": "display_data"
    }
   ],
   "source": [
    "ax = sns.barplot(x = 'title', y = 'viewCount', data = video_df.sort_values('viewCount', ascending=True)[0:9])\n",
    "plot = ax.set_xticklabels(ax.get_xticklabels(), rotation=90)\n",
    "ax.yaxis.set_major_formatter(ticker.FuncFormatter(lambda x, pos:'{:,.0f}'.format(x)))"
   ]
  },
  {
   "cell_type": "markdown",
   "id": "fc146d1c-ad2d-49aa-93df-3dbc908bc06d",
   "metadata": {},
   "source": [
    "### View distribution per video"
   ]
  },
  {
   "cell_type": "code",
   "execution_count": 44,
   "id": "05d6217d-fe03-4ed8-95f7-882cd4d96a8b",
   "metadata": {},
   "outputs": [
    {
     "name": "stderr",
     "output_type": "stream",
     "text": [
      "C:\\Users\\Emilio\\Anaconda3\\envs\\YT-env\\lib\\site-packages\\seaborn\\_decorators.py:36: FutureWarning: Pass the following variables as keyword args: x, y. From version 0.12, the only valid positional argument will be `data`, and passing other arguments without an explicit keyword will result in an error or misinterpretation.\n",
      "  warnings.warn(\n"
     ]
    },
    {
     "data": {
      "text/plain": [
       "<AxesSubplot:xlabel='channelTitle', ylabel='viewCount'>"
      ]
     },
     "execution_count": 44,
     "metadata": {},
     "output_type": "execute_result"
    },
    {
     "data": {
      "image/png": "[encoded data removed]",
      "text/plain": [
       "<Figure size 432x288 with 1 Axes>"
      ]
     },
     "metadata": {
      "needs_background": "light"
     },
     "output_type": "display_data"
    }
   ],
   "source": [
    "sns.violinplot(video_df['channelTitle'], video_df['viewCount'])"
   ]
  },
  {
   "cell_type": "markdown",
   "id": "96815ef4-9a8c-4bc0-abaa-0affc1679c2e",
   "metadata": {},
   "source": [
    "### Views vs. likes and comments"
   ]
  },
  {
   "cell_type": "code",
   "execution_count": 45,
   "id": "e2ae89e2-e532-47d3-9152-1183ce750d4d",
   "metadata": {},
   "outputs": [
    {
     "data": {
      "text/plain": [
       "<AxesSubplot:xlabel='likeCount', ylabel='viewCount'>"
      ]
     },
     "execution_count": 45,
     "metadata": {},
     "output_type": "execute_result"
    },
    {
     "data": {
      "image/png": "[encoded data removed]",
      "text/plain": [
       "<Figure size 432x288 with 2 Axes>"
      ]
     },
     "metadata": {
      "needs_background": "light"
     },
     "output_type": "display_data"
    }
   ],
   "source": [
    "fig, ax = plt.subplots(1,2)\n",
    "sns.scatterplot(data = video_df, x = 'commentCount', y = 'viewCount', ax = ax[0])\n",
    "sns.scatterplot(data = video_df, x = 'likeCount', y = 'viewCount', ax = ax[1])"
   ]
  },
  {
   "cell_type": "markdown",
   "id": "23a3d478-fd52-4258-985b-3bbee1c566fe",
   "metadata": {},
   "source": [
    "### Video duration"
   ]
  },
  {
   "cell_type": "code",
   "execution_count": 48,
   "id": "b12f5ca3-0b11-4c50-8120-33a1daa7604b",
   "metadata": {},
   "outputs": [
    {
     "data": {
      "text/plain": [
       "<AxesSubplot:xlabel='durationSecs', ylabel='Count'>"
      ]
     },
     "execution_count": 48,
     "metadata": {},
     "output_type": "execute_result"
    },
    {
     "data": {
      "image/png": "[encoded data removed]",
      "text/plain": [
       "<Figure size 432x288 with 1 Axes>"
      ]
     },
     "metadata": {
      "needs_background": "light"
     },
     "output_type": "display_data"
    }
   ],
   "source": [
    "sns.histplot(data = video_df, x = 'durationSecs', bins=30)"
   ]
  },
  {
   "cell_type": "markdown",
   "id": "e6f709ed-a096-494a-a94a-276e6efa8cf1",
   "metadata": {},
   "source": [
    "### Wordcloud for video titles"
   ]
  },
  {
   "cell_type": "code",
   "execution_count": 49,
   "id": "438e0dc7-e8a1-4816-8e19-687bbbda3641",
   "metadata": {},
   "outputs": [
    {
     "ename": "NameError",
     "evalue": "name 'WordCloud' is not defined",
     "output_type": "error",
     "traceback": [
      "\u001b[1;31m---------------------------------------------------------------------------\u001b[0m",
      "\u001b[1;31mNameError\u001b[0m                                 Traceback (most recent call last)",
      "Input \u001b[1;32mIn [49]\u001b[0m, in \u001b[0;36m<cell line: 12>\u001b[1;34m()\u001b[0m\n\u001b[0;32m      9\u001b[0m     plt\u001b[38;5;241m.\u001b[39mimshow(wordcloud) \n\u001b[0;32m     10\u001b[0m     plt\u001b[38;5;241m.\u001b[39maxis(\u001b[38;5;124m\"\u001b[39m\u001b[38;5;124moff\u001b[39m\u001b[38;5;124m\"\u001b[39m);\n\u001b[1;32m---> 12\u001b[0m wordcloud \u001b[38;5;241m=\u001b[39m \u001b[43mWordCloud\u001b[49m(width \u001b[38;5;241m=\u001b[39m \u001b[38;5;241m2000\u001b[39m, height \u001b[38;5;241m=\u001b[39m \u001b[38;5;241m1000\u001b[39m, random_state\u001b[38;5;241m=\u001b[39m\u001b[38;5;241m1\u001b[39m, background_color\u001b[38;5;241m=\u001b[39m\u001b[38;5;124m'\u001b[39m\u001b[38;5;124mblack\u001b[39m\u001b[38;5;124m'\u001b[39m, \n\u001b[0;32m     13\u001b[0m                       colormap\u001b[38;5;241m=\u001b[39m\u001b[38;5;124m'\u001b[39m\u001b[38;5;124mviridis\u001b[39m\u001b[38;5;124m'\u001b[39m, collocations\u001b[38;5;241m=\u001b[39m\u001b[38;5;28;01mFalse\u001b[39;00m)\u001b[38;5;241m.\u001b[39mgenerate(all_words_str)\n\u001b[0;32m     14\u001b[0m plot_cloud(wordcloud)\n",
      "\u001b[1;31mNameError\u001b[0m: name 'WordCloud' is not defined"
     ]
    }
   ],
   "source": [
    "stop_words = set(stopwords.words('english'))\n",
    "video_df['title_no_stopwords'] = video_df['title'].apply(lambda x: [item for item in str(x).split() if item not in stop_words])\n",
    "\n",
    "all_words = list([a for b in video_df['title_no_stopwords'].tolist() for a in b])\n",
    "all_words_str = ' '.join(all_words) \n",
    "\n",
    "def plot_cloud(wordcloud):\n",
    "    plt.figure(figsize=(30, 20))\n",
    "    plt.imshow(wordcloud) \n",
    "    plt.axis(\"off\");\n",
    "\n",
    "wordcloud = WordCloud(width = 2000, height = 1000, random_state=1, background_color='black', \n",
    "                      colormap='viridis', collocations=False).generate(all_words_str)\n",
    "plot_cloud(wordcloud)"
   ]
  },
  {
   "cell_type": "markdown",
   "id": "60b2ba79-d1e6-4afd-9fd6-a924431dd1da",
   "metadata": {},
   "source": [
    "### Upload schedule"
   ]
  },
  {
   "cell_type": "code",
   "execution_count": 50,
   "id": "e90d836c-2882-4fad-978a-bd3d48fd28ac",
   "metadata": {},
   "outputs": [
    {
     "data": {
      "image/png": "[encoded data removed]",
      "text/plain": [
       "<Figure size 432x288 with 1 Axes>"
      ]
     },
     "metadata": {
      "needs_background": "light"
     },
     "output_type": "display_data"
    }
   ],
   "source": [
    "day_df = pd.DataFrame(video_df['pushblishDayName'].value_counts())\n",
    "weekdays = [ 'Monday', 'Tuesday', 'Wednesday', 'Thursday', 'Friday', 'Saturday', 'Sunday']\n",
    "day_df = day_df.reindex(weekdays)\n",
    "ax = day_df.reset_index().plot.bar(x='index', y='pushblishDayName', rot=0)"
   ]
  },
  {
   "cell_type": "code",
   "execution_count": 51,
   "id": "f89d32f3-9310-441a-ba08-9e4bb9b682b5",
   "metadata": {},
   "outputs": [],
   "source": [
    "def get_channel_stats(youtube, channel_ids):\n",
    "    \n",
    "    \"\"\"\n",
    "    Get channel stats\n",
    "    \n",
    "    Params:\n",
    "    ------\n",
    "    youtube: build object of Youtube API\n",
    "    channel_ids: list of channel IDs\n",
    "    \n",
    "    Returns:\n",
    "    ------\n",
    "    dataframe with all channel stats for each channel ID\n",
    "    \n",
    "    \"\"\"\n",
    "    \n",
    "    all_data = []\n",
    "    \n",
    "    request = youtube.channels().list(\n",
    "        part=\"snippet,contentDetails,statistics\",\n",
    "        id=','.join(channel_ids)\n",
    "    )\n",
    "    response = request.execute()\n",
    "\n",
    "    # loop through items\n",
    "    for item in response['items']:\n",
    "        data = {'channelName': item['snippet']['title'],\n",
    "                'subscribers': item['statistics']['subscriberCount'],\n",
    "                'views': item['statistics']['viewCount'],\n",
    "                'totalVideos': item['statistics']['videoCount'],\n",
    "                'playlistId': item['contentDetails']['relatedPlaylists']['uploads']\n",
    "        }\n",
    "        \n",
    "        all_data.append(data)\n",
    "        \n",
    "    return(pd.DataFrame(all_data))\n",
    "\n",
    "def get_video_ids(youtube, playlist_id):\n",
    "    \n",
    "    video_ids = []\n",
    "    \n",
    "    request = youtube.playlistItems().list(\n",
    "        part=\"snippet,contentDetails\",\n",
    "        playlistId=playlist_id,\n",
    "        maxResults = 50\n",
    "    )\n",
    "    response = request.execute()\n",
    "    \n",
    "    for item in response['items']:\n",
    "        video_ids.append(item['contentDetails']['videoId'])\n",
    "        \n",
    "    next_page_token = response.get('nextPageToken')\n",
    "    while next_page_token is not None:\n",
    "        request = youtube.playlistItems().list(\n",
    "                    part='contentDetails',\n",
    "                    playlistId = playlist_id,\n",
    "                    maxResults = 50,\n",
    "                    pageToken = next_page_token)\n",
    "        response = request.execute()\n",
    "\n",
    "        for item in response['items']:\n",
    "            video_ids.append(item['contentDetails']['videoId'])\n",
    "\n",
    "        next_page_token = response.get('nextPageToken')\n",
    "        \n",
    "    return video_ids\n",
    "    \n",
    "    \n",
    "def get_video_details(youtube, video_ids):\n",
    "\n",
    "    all_video_info = []\n",
    "    \n",
    "    for i in range(0, len(video_ids), 50):\n",
    "        request = youtube.videos().list(\n",
    "            part=\"snippet,contentDetails,statistics\",\n",
    "            id=','.join(video_ids[i:i+50])\n",
    "        )\n",
    "        response = request.execute() \n",
    "\n",
    "        for video in response['items']:\n",
    "            stats_to_keep = {'snippet': ['channelTitle', 'title', 'description', 'tags', 'publishedAt'],\n",
    "                             'statistics': ['viewCount', 'likeCount', 'favouriteCount', 'commentCount'],\n",
    "                             'contentDetails': ['duration', 'definition', 'caption']\n",
    "                            }\n",
    "            video_info = {}\n",
    "            video_info['video_id'] = video['id']\n",
    "\n",
    "            for k in stats_to_keep.keys():\n",
    "                for v in stats_to_keep[k]:\n",
    "                    try:\n",
    "                        video_info[v] = video[k][v]\n",
    "                    except:\n",
    "                        video_info[v] = None\n",
    "\n",
    "            all_video_info.append(video_info)\n",
    "    \n",
    "    return pd.DataFrame(all_video_info)"
   ]
  },
  {
   "cell_type": "code",
   "execution_count": null,
   "id": "b7a8a8f5",
   "metadata": {},
   "outputs": [],
   "source": []
  },
  {
   "cell_type": "code",
   "execution_count": null,
   "id": "c02e2777",
   "metadata": {},
   "outputs": [],
   "source": []
  }
 ],
 "metadata": {
  "kernelspec": {
   "display_name": "Python 3 (ipykernel)",
   "language": "python",
   "name": "python3"
  },
  "language_info": {
   "codemirror_mode": {
    "name": "ipython",
    "version": 3
   },
   "file_extension": ".py",
   "mimetype": "text/x-python",
   "name": "python",
   "nbconvert_exporter": "python",
   "pygments_lexer": "ipython3",
   "version": "3.9.12"
  }
 },
 "nbformat": 4,
 "nbformat_minor": 5
}
